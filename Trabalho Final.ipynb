{
 "cells": [
  {
   "cell_type": "code",
   "execution_count": 1,
   "metadata": {
    "collapsed": true
   },
   "outputs": [],
   "source": [
    "import pandas as pd\n",
    "import numpy as np\n",
    "from sklearn.ensemble import ExtraTreesClassifier, RandomForestClassifier\n",
    "from sklearn.feature_selection import SelectFromModel\n",
    "from sklearn.model_selection import train_test_split"
   ]
  },
  {
   "cell_type": "code",
   "execution_count": 2,
   "metadata": {
    "collapsed": false
   },
   "outputs": [
    {
     "name": "stdout",
     "output_type": "stream",
     "text": [
      "number of features 370\n",
      "number of examples 60020\n"
     ]
    }
   ],
   "source": [
    "df = pd.read_csv('new_train.csv')\n",
    "print 'number of features', df.shape[1]\n",
    "print 'number of examples', df.shape[0]"
   ]
  },
  {
   "cell_type": "code",
   "execution_count": 3,
   "metadata": {
    "collapsed": false
   },
   "outputs": [
    {
     "name": "stdout",
     "output_type": "stream",
     "text": [
      "(60020, 369) (60020, 1)\n"
     ]
    }
   ],
   "source": [
    "X = df.ix[:,:'var38']\n",
    "y = df[['TARGET']]\n",
    "print X.shape, y.shape"
   ]
  },
  {
   "cell_type": "code",
   "execution_count": 4,
   "metadata": {
    "collapsed": false
   },
   "outputs": [
    {
     "name": "stderr",
     "output_type": "stream",
     "text": [
      "/home/victorgarritano/.local/lib/python2.7/site-packages/ipykernel/__main__.py:2: DataConversionWarning: A column-vector y was passed when a 1d array was expected. Please change the shape of y to (n_samples,), for example using ravel().\n",
      "  from ipykernel import kernelapp as app\n"
     ]
    }
   ],
   "source": [
    "clf_ = ExtraTreesClassifier(n_estimators=100, n_jobs=-1)\n",
    "clf_ = clf_.fit(X, y)\n",
    "model = SelectFromModel(clf_, prefit=True)\n",
    "X_new = model.transform(X)"
   ]
  },
  {
   "cell_type": "code",
   "execution_count": 5,
   "metadata": {
    "collapsed": false
   },
   "outputs": [
    {
     "name": "stdout",
     "output_type": "stream",
     "text": [
      "train (42014, 51) (42014, 1)\n",
      "test (18006, 51) (18006, 1)\n"
     ]
    }
   ],
   "source": [
    "X_train, X_test, y_train, y_test = train_test_split(X_new, y, test_size=.3)\n",
    "print 'train', X_train.shape, y_train.shape\n",
    "print 'test', X_test.shape, y_test.shape"
   ]
  },
  {
   "cell_type": "code",
   "execution_count": 6,
   "metadata": {
    "collapsed": false,
    "scrolled": true
   },
   "outputs": [
    {
     "name": "stderr",
     "output_type": "stream",
     "text": [
      "/home/victorgarritano/.local/lib/python2.7/site-packages/ipykernel/__main__.py:2: DataConversionWarning: A column-vector y was passed when a 1d array was expected. Please change the shape of y to (n_samples,), for example using ravel().\n",
      "  from ipykernel import kernelapp as app\n"
     ]
    },
    {
     "name": "stdout",
     "output_type": "stream",
     "text": [
      "score 0.955792513607\n"
     ]
    }
   ],
   "source": [
    "clf = RandomForestClassifier(n_estimators=100, n_jobs=-1)\n",
    "clf.fit(X_train, y_train)\n",
    "score = clf.score(X_test, y_test)\n",
    "print 'score', score"
   ]
  },
  {
   "cell_type": "code",
   "execution_count": 7,
   "metadata": {
    "collapsed": false
   },
   "outputs": [
    {
     "name": "stdout",
     "output_type": "stream",
     "text": [
      "var38 0.390630162125\n",
      "var15 0.162118216305\n",
      "saldo_medio_var5_hace3 0.0266918121932\n",
      "saldo_medio_var5_ult3 0.0257586257104\n",
      "num_var45_ult3 0.0208672652706\n",
      "num_var45_hace3 0.0198714042532\n",
      "num_var45_hace2 0.0168193335308\n",
      "num_var22_ult3 0.0135790721265\n",
      "saldo_medio_var5_hace2 0.0133042421639\n",
      "num_var45_ult1 0.0132136008965\n",
      "num_med_var45_ult3 0.0123882750085\n",
      "saldo_var42 0.0112154108857\n",
      "saldo_var30 0.0110184333935\n",
      "saldo_medio_var5_ult1 0.0109987855958\n",
      "num_var22_hace2 0.0109227713216\n",
      "num_var22_hace3 0.0108509757704\n",
      "saldo_var5 0.00990225685854\n",
      "num_meses_var5_ult3 0.00934607838058\n",
      "var36 0.00865090945262\n",
      "num_meses_var39_vig_ult3 0.00837513402387\n",
      "num_var22_ult1 0.00822612294008\n",
      "num_med_var22_ult3 0.00667651881825\n",
      "ind_var5 0.00606815472171\n",
      "ind_var30 0.00493164060732\n",
      "imp_op_var41_efect_ult3 0.00396920649656\n",
      "imp_op_var39_efect_ult3 0.00393040452342\n",
      "var3 0.00388261602302\n",
      "imp_op_var39_ult1 0.00375793397415\n",
      "imp_op_var41_ult1 0.00368952658503\n",
      "num_op_var41_ult3 0.00352560528103\n",
      "imp_op_var41_comer_ult3 0.0035163217553\n",
      "imp_trans_var37_ult1 0.00347062230598\n",
      "num_op_var39_ult3 0.00340255054144\n",
      "num_op_var39_comer_ult3 0.0033776481331\n",
      "num_ent_var16_ult1 0.00337724444233\n",
      "imp_op_var39_comer_ult3 0.00337228852315\n",
      "imp_ent_var16_ult1 0.00337196852231\n",
      "num_op_var41_efect_ult3 0.00332537442119\n",
      "num_op_var39_ult1 0.00327342766135\n",
      "num_op_var39_hace2 0.00322382571205\n",
      "num_op_var41_comer_ult3 0.00321468004269\n",
      "num_op_var41_ult1 0.00321317286861\n",
      "imp_op_var41_efect_ult1 0.00317155398332\n",
      "num_op_var39_efect_ult3 0.00315544770007\n",
      "num_op_var41_hace2 0.00311532157837\n",
      "imp_op_var41_comer_ult1 0.00311080548706\n",
      "imp_op_var39_efect_ult1 0.00305590831801\n",
      "num_var43_recib_ult1 0.00298471361743\n",
      "imp_op_var39_comer_ult1 0.00291386386356\n",
      "num_op_var39_comer_ult1 0.00282588458792\n",
      "num_var5 0.0027110986002\n"
     ]
    }
   ],
   "source": [
    "importances = np.argsort(-clf_.feature_importances_)[:X_train.shape[1]]\n",
    "for imp in importances:\n",
    "    print X.ix[:,imp].name, clf_.feature_importances_[imp]"
   ]
  }
 ],
 "metadata": {
  "kernelspec": {
   "display_name": "Python 2",
   "language": "python",
   "name": "python2"
  },
  "language_info": {
   "codemirror_mode": {
    "name": "ipython",
    "version": 2
   },
   "file_extension": ".py",
   "mimetype": "text/x-python",
   "name": "python",
   "nbconvert_exporter": "python",
   "pygments_lexer": "ipython2",
   "version": "2.7.12"
  }
 },
 "nbformat": 4,
 "nbformat_minor": 2
}
